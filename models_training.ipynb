{
 "cells": [
  {
   "cell_type": "code",
   "execution_count": 118,
   "metadata": {},
   "outputs": [],
   "source": [
    "import pandas as pd\n",
    "import numpy as np\n",
    "import matplotlib.pyplot as plt\n",
    "import seaborn as sn\n",
    "\n",
    "from sklearn.model_selection import train_test_split\n",
    "from sklearn.base import BaseEstimator, TransformerMixin\n",
    "from sklearn.pipeline import Pipeline, FeatureUnion\n",
    "from sklearn.preprocessing import StandardScaler\n",
    "\n",
    "\n",
    "from sklearn.linear_model import LinearRegression\n",
    "from sklearn.ensemble import RandomForestRegressor\n",
    "from sklearn.tree import DecisionTreeRegressor\n",
    "from sklearn.linear_model import Perceptron\n",
    "\n",
    "from sklearn.metrics import mean_squared_error, r2_score\n",
    "from sklearn.model_selection import GridSearchCV\n",
    "\n",
    "%matplotlib inline"
   ]
  },
  {
   "cell_type": "markdown",
   "metadata": {},
   "source": [
    "### Load and preapare data"
   ]
  },
  {
   "cell_type": "code",
   "execution_count": 2,
   "metadata": {},
   "outputs": [
    {
     "data": {
      "text/html": [
       "<div>\n",
       "<style scoped>\n",
       "    .dataframe tbody tr th:only-of-type {\n",
       "        vertical-align: middle;\n",
       "    }\n",
       "\n",
       "    .dataframe tbody tr th {\n",
       "        vertical-align: top;\n",
       "    }\n",
       "\n",
       "    .dataframe thead th {\n",
       "        text-align: right;\n",
       "    }\n",
       "</style>\n",
       "<table border=\"1\" class=\"dataframe\">\n",
       "  <thead>\n",
       "    <tr style=\"text-align: right;\">\n",
       "      <th></th>\n",
       "      <th>rain_1h</th>\n",
       "      <th>snow_1h</th>\n",
       "      <th>clouds_all</th>\n",
       "      <th>temp_c</th>\n",
       "      <th>Clouds</th>\n",
       "      <th>Clear</th>\n",
       "      <th>Rain</th>\n",
       "      <th>Drizzle</th>\n",
       "      <th>Mist</th>\n",
       "      <th>Haze</th>\n",
       "      <th>...</th>\n",
       "      <th>Snow</th>\n",
       "      <th>Squall</th>\n",
       "      <th>Smoke</th>\n",
       "      <th>hour</th>\n",
       "      <th>is_day_off</th>\n",
       "      <th>day_of_week</th>\n",
       "      <th>holiday_bool</th>\n",
       "      <th>month</th>\n",
       "      <th>date_time</th>\n",
       "      <th>traffic_volume</th>\n",
       "    </tr>\n",
       "  </thead>\n",
       "  <tbody>\n",
       "    <tr>\n",
       "      <th>0</th>\n",
       "      <td>0.0</td>\n",
       "      <td>0.0</td>\n",
       "      <td>40</td>\n",
       "      <td>15.13</td>\n",
       "      <td>1</td>\n",
       "      <td>0</td>\n",
       "      <td>0</td>\n",
       "      <td>0</td>\n",
       "      <td>0</td>\n",
       "      <td>0</td>\n",
       "      <td>...</td>\n",
       "      <td>0</td>\n",
       "      <td>0</td>\n",
       "      <td>0</td>\n",
       "      <td>9</td>\n",
       "      <td>0</td>\n",
       "      <td>1</td>\n",
       "      <td>0</td>\n",
       "      <td>10</td>\n",
       "      <td>2012-10-02 09:00:00</td>\n",
       "      <td>5545</td>\n",
       "    </tr>\n",
       "    <tr>\n",
       "      <th>1</th>\n",
       "      <td>0.0</td>\n",
       "      <td>0.0</td>\n",
       "      <td>75</td>\n",
       "      <td>16.21</td>\n",
       "      <td>1</td>\n",
       "      <td>0</td>\n",
       "      <td>0</td>\n",
       "      <td>0</td>\n",
       "      <td>0</td>\n",
       "      <td>0</td>\n",
       "      <td>...</td>\n",
       "      <td>0</td>\n",
       "      <td>0</td>\n",
       "      <td>0</td>\n",
       "      <td>10</td>\n",
       "      <td>0</td>\n",
       "      <td>1</td>\n",
       "      <td>0</td>\n",
       "      <td>10</td>\n",
       "      <td>2012-10-02 10:00:00</td>\n",
       "      <td>4516</td>\n",
       "    </tr>\n",
       "    <tr>\n",
       "      <th>2</th>\n",
       "      <td>0.0</td>\n",
       "      <td>0.0</td>\n",
       "      <td>90</td>\n",
       "      <td>16.43</td>\n",
       "      <td>1</td>\n",
       "      <td>0</td>\n",
       "      <td>0</td>\n",
       "      <td>0</td>\n",
       "      <td>0</td>\n",
       "      <td>0</td>\n",
       "      <td>...</td>\n",
       "      <td>0</td>\n",
       "      <td>0</td>\n",
       "      <td>0</td>\n",
       "      <td>11</td>\n",
       "      <td>0</td>\n",
       "      <td>1</td>\n",
       "      <td>0</td>\n",
       "      <td>10</td>\n",
       "      <td>2012-10-02 11:00:00</td>\n",
       "      <td>4767</td>\n",
       "    </tr>\n",
       "    <tr>\n",
       "      <th>3</th>\n",
       "      <td>0.0</td>\n",
       "      <td>0.0</td>\n",
       "      <td>90</td>\n",
       "      <td>16.98</td>\n",
       "      <td>1</td>\n",
       "      <td>0</td>\n",
       "      <td>0</td>\n",
       "      <td>0</td>\n",
       "      <td>0</td>\n",
       "      <td>0</td>\n",
       "      <td>...</td>\n",
       "      <td>0</td>\n",
       "      <td>0</td>\n",
       "      <td>0</td>\n",
       "      <td>12</td>\n",
       "      <td>0</td>\n",
       "      <td>1</td>\n",
       "      <td>0</td>\n",
       "      <td>10</td>\n",
       "      <td>2012-10-02 12:00:00</td>\n",
       "      <td>5026</td>\n",
       "    </tr>\n",
       "    <tr>\n",
       "      <th>4</th>\n",
       "      <td>0.0</td>\n",
       "      <td>0.0</td>\n",
       "      <td>75</td>\n",
       "      <td>17.99</td>\n",
       "      <td>1</td>\n",
       "      <td>0</td>\n",
       "      <td>0</td>\n",
       "      <td>0</td>\n",
       "      <td>0</td>\n",
       "      <td>0</td>\n",
       "      <td>...</td>\n",
       "      <td>0</td>\n",
       "      <td>0</td>\n",
       "      <td>0</td>\n",
       "      <td>13</td>\n",
       "      <td>0</td>\n",
       "      <td>1</td>\n",
       "      <td>0</td>\n",
       "      <td>10</td>\n",
       "      <td>2012-10-02 13:00:00</td>\n",
       "      <td>4918</td>\n",
       "    </tr>\n",
       "  </tbody>\n",
       "</table>\n",
       "<p>5 rows × 22 columns</p>\n",
       "</div>"
      ],
      "text/plain": [
       "   rain_1h  snow_1h  clouds_all  temp_c  Clouds  Clear  Rain  Drizzle  Mist  \\\n",
       "0      0.0      0.0          40   15.13       1      0     0        0     0   \n",
       "1      0.0      0.0          75   16.21       1      0     0        0     0   \n",
       "2      0.0      0.0          90   16.43       1      0     0        0     0   \n",
       "3      0.0      0.0          90   16.98       1      0     0        0     0   \n",
       "4      0.0      0.0          75   17.99       1      0     0        0     0   \n",
       "\n",
       "   Haze  ...  Snow  Squall  Smoke  hour  is_day_off  day_of_week  \\\n",
       "0     0  ...     0       0      0     9           0            1   \n",
       "1     0  ...     0       0      0    10           0            1   \n",
       "2     0  ...     0       0      0    11           0            1   \n",
       "3     0  ...     0       0      0    12           0            1   \n",
       "4     0  ...     0       0      0    13           0            1   \n",
       "\n",
       "   holiday_bool  month            date_time  traffic_volume  \n",
       "0             0     10  2012-10-02 09:00:00            5545  \n",
       "1             0     10  2012-10-02 10:00:00            4516  \n",
       "2             0     10  2012-10-02 11:00:00            4767  \n",
       "3             0     10  2012-10-02 12:00:00            5026  \n",
       "4             0     10  2012-10-02 13:00:00            4918  \n",
       "\n",
       "[5 rows x 22 columns]"
      ]
     },
     "execution_count": 2,
     "metadata": {},
     "output_type": "execute_result"
    }
   ],
   "source": [
    "# Load data\n",
    "df = pd.read_csv('preprocessed_data.csv')\n",
    "df.head()"
   ]
  },
  {
   "cell_type": "code",
   "execution_count": 10,
   "metadata": {},
   "outputs": [],
   "source": [
    "# X_all - df with all features\n",
    "# X - df containing only features correlated with traffic_volume\n",
    "\n",
    "X_all = df.drop(['date_time', 'traffic_volume', 'day_of_week', 'holiday_bool'], axis = 1) \n",
    "X = df[['is_day_off', 'temp_c', 'Clouds', 'hour']]\n",
    "y = df['traffic_volume']"
   ]
  },
  {
   "cell_type": "code",
   "execution_count": 4,
   "metadata": {},
   "outputs": [],
   "source": [
    "# Create train and test sets\n",
    "X_train, X_test, y_train, y_test = train_test_split(X, y, test_size=0.2, random_state=42)\n",
    "X_all_train, X_all_test, y_all_train, y_all_test = train_test_split(X_all, y, test_size=0.2, random_state=42)"
   ]
  },
  {
   "cell_type": "code",
   "execution_count": 5,
   "metadata": {},
   "outputs": [],
   "source": [
    "# Create pipelines for data preparing\n",
    "class DataFrameSelector(BaseEstimator, TransformerMixin):\n",
    "    \"\"\"Class from book Handson-ml by Ayrelien Geron. This estimators\n",
    "    takes chosen columns from dataframe\"\"\"\n",
    "    def __init__(self, attribute_names):\n",
    "        self.attribute_names = attribute_names\n",
    "    def fit(self, X, y=None):\n",
    "        return self\n",
    "    def transform(self, X):\n",
    "        return X[self.attribute_names].values"
   ]
  },
  {
   "cell_type": "code",
   "execution_count": 8,
   "metadata": {},
   "outputs": [],
   "source": [
    "# Define piplines and use them on a x_train and x_test to standarize numerical variables\n",
    "numerical_attributs = ['hour', 'temp_c']\n",
    "categorical_attributs = ['Clouds', 'is_day_off']\n",
    "\n",
    "numerical_pipeline = Pipeline([\n",
    "    ('selector', DataFrameSelector(numerical_attributs)),\n",
    "    ('std_scaler', StandardScaler())\n",
    "])\n",
    "categorical_pipeline = Pipeline([\n",
    "    ('selector', DataFrameSelector(categorical_attributs)),\n",
    "])\n",
    "full_pipeline = FeatureUnion(transformer_list=[\n",
    "    ('num_pipeline', numerical_pipeline),\n",
    "    ('cat_pipeline', categorical_pipeline)\n",
    "])\n",
    "\n",
    "X_train_std = full_pipeline.fit_transform(X_train)\n",
    "X_test_std = full_pipeline.transform(X_test)"
   ]
  },
  {
   "cell_type": "code",
   "execution_count": 9,
   "metadata": {},
   "outputs": [],
   "source": [
    "# Define piplines and use them on a x_all_train and x_all_test to standarize numerical variables\n",
    "numerical_attributs = ['rain_1h', 'snow_1h', 'clouds_all', 'temp_c', 'hour', 'month']\n",
    "categorical_attributs = ['Clouds', 'is_day_off', 'Clear', 'Rain', 'Drizzle', 'Mist', 'Haze', \n",
    "                         'Fog', 'Thunderstorm', 'Snow', 'Squall', 'Smoke']\n",
    "\n",
    "numerical_pipeline = Pipeline([\n",
    "    ('selector', DataFrameSelector(numerical_attributs)),\n",
    "    ('std_scaler', StandardScaler())\n",
    "])\n",
    "categorical_pipeline = Pipeline([\n",
    "    ('selector', DataFrameSelector(categorical_attributs)),\n",
    "])\n",
    "full_pipeline = FeatureUnion(transformer_list=[\n",
    "    ('num_pipeline', numerical_pipeline),\n",
    "    ('cat_pipeline', categorical_pipeline)\n",
    "])\n",
    "\n",
    "X_all_train_std = full_pipeline.fit_transform(X_all_train)\n",
    "X_all_test_std = full_pipeline.transform(X_all_test)"
   ]
  },
  {
   "cell_type": "markdown",
   "metadata": {},
   "source": [
    "### Test various models "
   ]
  },
  {
   "cell_type": "code",
   "execution_count": 33,
   "metadata": {},
   "outputs": [],
   "source": [
    "def train_test_various_models(models, X_train, X_test, y_train, y_test):\n",
    "    \"\"\"trains and test given models on given data\"\"\"\n",
    "    for model_name, model in models.items():\n",
    "        model.fit(X_train, y_train)\n",
    "        y_train_pred = model.predict(X_train)\n",
    "        y_test_pred = model.predict(X_test)\n",
    "        print(f\"r2 score on training data using {model_name}: {r2_score(y_train, y_train_pred)}\")\n",
    "        print(f\"r2 score on test data using {model_name}: {r2_score(y_test, y_test_pred)}\\n\")\n",
    "    \n",
    "        print(f\"mean squared error score on training data using {model_name}:\", end=\" \") \n",
    "        print(f\"{np.sqrt(mean_squared_error(y_train, y_train_pred))}\")\n",
    "        print(f\"mean squared error score on test data using {model_name}:\", end=\" \"),\n",
    "        print(f\"{np.sqrt(mean_squared_error(y_test, y_test_pred))}\\n\")"
   ]
  },
  {
   "cell_type": "code",
   "execution_count": 117,
   "metadata": {},
   "outputs": [
    {
     "name": "stdout",
     "output_type": "stream",
     "text": [
      "r2 score on training data using linear_regression: 0.19417835605885136\n",
      "r2 score on test data using linear_regression: 0.18660559582228242\n",
      "\n",
      "mean squared error score on training data using linear_regression: 1781.3265038005763\n",
      "mean squared error score on test data using linear_regression: 1790.6197809497796\n",
      "\n",
      "r2 score on training data using random_forest_regressor: 0.9103585324734156\n",
      "r2 score on test data using random_forest_regressor: 0.9082572603280118\n",
      "\n",
      "mean squared error score on training data using random_forest_regressor: 594.1259811606835\n",
      "mean squared error score on test data using random_forest_regressor: 601.3656813792824\n",
      "\n",
      "r2 score on training data using decision_tree_regresor: 0.9075803559491028\n",
      "r2 score on test data using decision_tree_regresor: 0.9055116772786771\n",
      "\n",
      "mean squared error score on training data using decision_tree_regresor: 603.2623358653117\n",
      "mean squared error score on test data using decision_tree_regresor: 610.2978747148285\n",
      "\n",
      "r2 score on training data using perceptron: -0.44714175896509945\n",
      "r2 score on test data using perceptron: -0.42276429823819583\n",
      "\n",
      "mean squared error score on training data using perceptron: 2387.1494180546856\n",
      "mean squared error score on test data using perceptron: 2368.2048547515433\n",
      "\n"
     ]
    }
   ],
   "source": [
    "# train and test various models using all features \n",
    "\n",
    "models = {\n",
    "    'linear_regression': LinearRegression(),\n",
    "    'random_forest_regressor': RandomForestRegressor(max_depth=5, n_estimators=10),\n",
    "    'decision_tree_regresor': DecisionTreeRegressor(max_depth=5),\n",
    "    'perceptron': Perceptron(penalty='l2')\n",
    "}\n",
    "\n",
    "train_test_various_models(models, X_all_train_std, X_all_test_std, y_all_train, y_all_test)"
   ]
  },
  {
   "cell_type": "code",
   "execution_count": 116,
   "metadata": {},
   "outputs": [
    {
     "name": "stdout",
     "output_type": "stream",
     "text": [
      "r2 score on training data using linear_regression: 0.1897033393837636\n",
      "r2 score on test data using linear_regression: 0.18356551518825992\n",
      "\n",
      "mean squared error score on training data using linear_regression: 1786.2658283951328\n",
      "mean squared error score on test data using linear_regression: 1793.9629017973828\n",
      "\n",
      "r2 score on training data using random_forest_regressor: 0.9126412394344365\n",
      "r2 score on test data using random_forest_regressor: 0.9105832383651931\n",
      "\n",
      "mean squared error score on training data using random_forest_regressor: 586.5125338296932\n",
      "mean squared error score on test data using random_forest_regressor: 593.693448248635\n",
      "\n",
      "r2 score on training data using decision_tree_regresor: 0.9073904796137133\n",
      "r2 score on test data using decision_tree_regresor: 0.9055207994411532\n",
      "\n",
      "mean squared error score on training data using decision_tree_regresor: 603.8817197083949\n",
      "mean squared error score on test data using decision_tree_regresor: 610.2684140863236\n",
      "\n",
      "r2 score on training data using perceptron: 0.056052693546623344\n",
      "r2 score on test data using perceptron: 0.04773653833503466\n",
      "\n",
      "mean squared error score on training data using perceptron: 1927.959654533545\n",
      "mean squared error score on test data using perceptron: 1937.4537680078345\n",
      "\n"
     ]
    }
   ],
   "source": [
    "# train and test various models using only correlated features\n",
    "\n",
    "models = {\n",
    "    'linear_regression': LinearRegression(),\n",
    "    'random_forest_regressor': RandomForestRegressor(max_depth=5, n_estimators=10),\n",
    "    'decision_tree_regresor': DecisionTreeRegressor(max_depth=5),\n",
    "    'perceptron': Perceptron(penalty='l2')\n",
    "}\n",
    "\n",
    "train_test_various_models(models, X_train_std, X_test_std, y_train, y_test)"
   ]
  },
  {
   "cell_type": "markdown",
   "metadata": {},
   "source": [
    "###### Results\n",
    "\n",
    "Train models with all features and only correlated features gives similar models performance so\n",
    "it is better to choose option with smaller number of features.\n",
    "\n",
    "Random forest regressor and decision tree regresor have the best mean square error scores and r2 scores. "
   ]
  },
  {
   "cell_type": "markdown",
   "metadata": {},
   "source": [
    "### The best models's hyperparameters tuning"
   ]
  },
  {
   "cell_type": "code",
   "execution_count": 121,
   "metadata": {},
   "outputs": [
    {
     "data": {
      "text/plain": [
       "{'max_depth': 12, 'min_samples_leaf': 100}"
      ]
     },
     "execution_count": 121,
     "metadata": {},
     "output_type": "execute_result"
    }
   ],
   "source": [
    "tree_reg = DecisionTreeRegressor()\n",
    "param_grid = [\n",
    "    {'max_depth': [3, 5, 7, 9, 12, 15, 17], 'min_samples_leaf': [10, 50, 100, 150, 250, 300]}\n",
    "]\n",
    "\n",
    "grid_search = GridSearchCV(tree_reg, param_grid, cv=5, scoring='neg_mean_squared_error')\n",
    "grid_search.fit(X_train, y_train)\n",
    "grid_search.best_params_"
   ]
  },
  {
   "cell_type": "code",
   "execution_count": 122,
   "metadata": {},
   "outputs": [
    {
     "data": {
      "text/plain": [
       "{'max_depth': 12, 'min_samples_leaf': 100, 'n_estimators': 50}"
      ]
     },
     "execution_count": 122,
     "metadata": {},
     "output_type": "execute_result"
    }
   ],
   "source": [
    "forest_reg = RandomForestRegressor()\n",
    "param_grid = [\n",
    "    {'max_depth': [3, 5, 7, 9, 12, 15, 17], 'min_samples_leaf': [10, 50, 100, 150, 250, 300],\n",
    "     'n_estimators': [10, 20 ,50, 75, 100]}\n",
    "]\n",
    "grid_search = GridSearchCV(forest_reg, param_grid, cv=5, scoring='neg_mean_squared_error')\n",
    "grid_search.fit(X_train, y_train)\n",
    "grid_search.best_params_"
   ]
  },
  {
   "cell_type": "code",
   "execution_count": 123,
   "metadata": {},
   "outputs": [
    {
     "name": "stdout",
     "output_type": "stream",
     "text": [
      "r2 score on training data using best random_forest_regressor: 0.9302250598189744\n",
      "r2 score on test data using best random_forest_regressor: 0.9256907668615877\n",
      "\n",
      "mean squared error score on training data using best random_forest_regressor: 524.171980407897\n",
      "mean squared error score on test data using best random_forest_regressor: 541.220424285137\n",
      "\n",
      "r2 score on training data using best decision_tree_regresor: 0.9306125767544912\n",
      "r2 score on test data using best decision_tree_regresor: 0.9250893742509733\n",
      "\n",
      "mean squared error score on training data using best decision_tree_regresor: 522.7143773259944\n",
      "mean squared error score on test data using best decision_tree_regresor: 543.4060885248603\n",
      "\n"
     ]
    }
   ],
   "source": [
    "models = {\n",
    "    'best random_forest_regressor': RandomForestRegressor(max_depth=12, n_estimators=50, \n",
    "                                                         min_samples_leaf=100),\n",
    "    'best decision_tree_regresor': DecisionTreeRegressor(max_depth=12, min_samples_leaf=100),\n",
    "}\n",
    "train_test_various_models(models, X_train, X_test, y_train, y_test)"
   ]
  },
  {
   "cell_type": "code",
   "execution_count": 207,
   "metadata": {},
   "outputs": [
    {
     "data": {
      "image/png": "[encoded data removed]",
      "text/plain": [
       "<Figure size 720x432 with 1 Axes>"
      ]
     },
     "metadata": {
      "needs_background": "light"
     },
     "output_type": "display_data"
    }
   ],
   "source": [
    "def plot_learning_curves(model, X, y):\n",
    "    X_train, X_val, y_train, y_val = train_test_split(X, y, test_size=0.2)\n",
    "    train_errors, val_errors = [], []\n",
    "    for m in range(1, len(X_train)):\n",
    "        model.fit(X_train[:m], y_train[:m])\n",
    "        y_train_predict = model.predict(X_train[:m])\n",
    "        y_val_predict = model.predict(X_val)\n",
    "        train_errors.append(mean_squared_error(y_train_predict, y_train[:m]))\n",
    "        val_errors.append(mean_squared_error(y_val_predict, y_val))\n",
    "    plt.plot(np.sqrt(train_errors), \"r-+\", linewidth=2, label=\"train\")\n",
    "    plt.plot(np.sqrt(val_errors), \"b-\", linewidth=3, label=\"val\")\n",
    "    plt.legend()\n",
    "    plt.xlabel(\"iteration\")\n",
    "    plt.ylabel(\"error\")\n",
    "\n",
    "\n",
    "plot_learning_curves(DecisionTreeRegressor(max_depth=12, min_samples_leaf=100),\n",
    "                     X_train[:5000], y_train[:5000])"
   ]
  },
  {
   "cell_type": "markdown",
   "metadata": {},
   "source": [
    "### Visualize Decision Tree Regressor predictions"
   ]
  },
  {
   "cell_type": "code",
   "execution_count": 140,
   "metadata": {},
   "outputs": [],
   "source": [
    "y_train_pred = models['best decision_tree_regresor'].predict(X_train)\n",
    "y_test_pred = models['best decision_tree_regresor'].predict(X_test)"
   ]
  },
  {
   "cell_type": "code",
   "execution_count": 152,
   "metadata": {},
   "outputs": [
    {
     "data": {
      "text/html": [
       "<div>\n",
       "<style scoped>\n",
       "    .dataframe tbody tr th:only-of-type {\n",
       "        vertical-align: middle;\n",
       "    }\n",
       "\n",
       "    .dataframe tbody tr th {\n",
       "        vertical-align: top;\n",
       "    }\n",
       "\n",
       "    .dataframe thead th {\n",
       "        text-align: right;\n",
       "    }\n",
       "</style>\n",
       "<table border=\"1\" class=\"dataframe\">\n",
       "  <thead>\n",
       "    <tr style=\"text-align: right;\">\n",
       "      <th></th>\n",
       "      <th>y</th>\n",
       "      <th>y_pred</th>\n",
       "    </tr>\n",
       "  </thead>\n",
       "  <tbody>\n",
       "    <tr>\n",
       "      <th>40194</th>\n",
       "      <td>4343</td>\n",
       "      <td>4368.430000</td>\n",
       "    </tr>\n",
       "    <tr>\n",
       "      <th>30550</th>\n",
       "      <td>4362</td>\n",
       "      <td>4567.989950</td>\n",
       "    </tr>\n",
       "    <tr>\n",
       "      <th>36923</th>\n",
       "      <td>324</td>\n",
       "      <td>413.530973</td>\n",
       "    </tr>\n",
       "    <tr>\n",
       "      <th>33137</th>\n",
       "      <td>4749</td>\n",
       "      <td>5240.851190</td>\n",
       "    </tr>\n",
       "    <tr>\n",
       "      <th>22549</th>\n",
       "      <td>2751</td>\n",
       "      <td>3352.315068</td>\n",
       "    </tr>\n",
       "  </tbody>\n",
       "</table>\n",
       "</div>"
      ],
      "text/plain": [
       "          y       y_pred\n",
       "40194  4343  4368.430000\n",
       "30550  4362  4567.989950\n",
       "36923   324   413.530973\n",
       "33137  4749  5240.851190\n",
       "22549  2751  3352.315068"
      ]
     },
     "execution_count": 152,
     "metadata": {},
     "output_type": "execute_result"
    }
   ],
   "source": [
    "df_train_pred = y_train.to_frame()\n",
    "df_train_pred.rename(columns={\"traffic_volume\": \"y\"}, inplace=True)\n",
    "df_train_pred['y_pred'] = y_train_pred\n",
    "\n",
    "df_test_pred = y_test.to_frame()\n",
    "df_test_pred.rename(columns={\"traffic_volume\": \"y\"}, inplace=True)\n",
    "df_test_pred['y_pred'] = y_test_pred\n",
    "df_test_pred.head()"
   ]
  },
  {
   "cell_type": "code",
   "execution_count": 206,
   "metadata": {},
   "outputs": [
    {
     "data": {
      "image/png": "[encoded data removed]",
      "text/plain": [
       "<Figure size 720x432 with 1 Axes>"
      ]
     },
     "metadata": {
      "needs_background": "light"
     },
     "output_type": "display_data"
    }
   ],
   "source": [
    "def plot_prediction(df, number_of_samples):\n",
    "    sample = df.sample(n=number_of_samples)\n",
    "    sample['difference'] = np.abs(df.y - df.y_pred)\n",
    "    x= [i+1 for i in range(number_of_samples)]\n",
    "    plt.scatter(x, sample.y, color='blue', marker='*', label='y')\n",
    "    plt.scatter(x, sample.y_pred, color='red', marker='o',\n",
    "               label='y_pred')\n",
    "    for x_i, y_i, diff in zip(x, sample.y_pred, sample.difference):\n",
    "        plt.text(x_i+0.05, y_i, int(diff), color=\"green\", fontsize=12)\n",
    "    plt.scatter([], [], color='green', marker='$123$', label='różnica')\n",
    "    plt.legend()\n",
    "    plt.xticks(x)\n",
    "    plt.grid()\n",
    "    plt.xlabel('numer próbki')\n",
    "    plt.ylabel('natężenie ruchu')\n",
    "    plt.title(\"Porównanie wartości rzeczywistych i przewidywanych\")\n",
    "    plt.savefig('y_vs_y_pred.png')\n",
    "    \n",
    "    \n",
    "plot_prediction(df_test_pred, 20)"
   ]
  }
 ],
 "metadata": {
  "kernelspec": {
   "display_name": "Python 3",
   "language": "python",
   "name": "python3"
  },
  "language_info": {
   "codemirror_mode": {
    "name": "ipython",
    "version": 3
   },
   "file_extension": ".py",
   "mimetype": "text/x-python",
   "name": "python",
   "nbconvert_exporter": "python",
   "pygments_lexer": "ipython3",
   "version": "3.7.3"
  }
 },
 "nbformat": 4,
 "nbformat_minor": 2
}
